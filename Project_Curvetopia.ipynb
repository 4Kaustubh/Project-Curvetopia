{
  "nbformat": 4,
  "nbformat_minor": 0,
  "metadata": {
    "colab": {
      "provenance": [],
      "authorship_tag": "ABX9TyOQBwLJ8mQezIwjoPSlTCtq",
      "include_colab_link": true
    },
    "kernelspec": {
      "name": "python3",
      "display_name": "Python 3"
    },
    "language_info": {
      "name": "python"
    }
  },
  "cells": [
    {
      "cell_type": "markdown",
      "metadata": {
        "id": "view-in-github",
        "colab_type": "text"
      },
      "source": [
        "<a href=\"https://colab.research.google.com/github/4Kaustubh/Project-Curvetopia/blob/main/Project_Curvetopia.ipynb\" target=\"_parent\"><img src=\"https://colab.research.google.com/assets/colab-badge.svg\" alt=\"Open In Colab\"/></a>"
      ]
    },
    {
      "cell_type": "code",
      "source": [
        "pip install scipy scikit-learn svgwrite cairosvg"
      ],
      "metadata": {
        "colab": {
          "base_uri": "https://localhost:8080/"
        },
        "id": "jm9mk8qTfq5C",
        "outputId": "dbe8aa9e-f762-43db-9ad9-c1e20cc86cad"
      },
      "execution_count": 8,
      "outputs": [
        {
          "output_type": "stream",
          "name": "stdout",
          "text": [
            "Requirement already satisfied: scipy in /usr/local/lib/python3.10/dist-packages (1.13.1)\n",
            "Requirement already satisfied: scikit-learn in /usr/local/lib/python3.10/dist-packages (1.3.2)\n",
            "Requirement already satisfied: svgwrite in /usr/local/lib/python3.10/dist-packages (1.4.3)\n",
            "Requirement already satisfied: cairosvg in /usr/local/lib/python3.10/dist-packages (2.7.1)\n",
            "Requirement already satisfied: numpy<2.3,>=1.22.4 in /usr/local/lib/python3.10/dist-packages (from scipy) (1.26.4)\n",
            "Requirement already satisfied: joblib>=1.1.1 in /usr/local/lib/python3.10/dist-packages (from scikit-learn) (1.4.2)\n",
            "Requirement already satisfied: threadpoolctl>=2.0.0 in /usr/local/lib/python3.10/dist-packages (from scikit-learn) (3.5.0)\n",
            "Requirement already satisfied: cairocffi in /usr/local/lib/python3.10/dist-packages (from cairosvg) (1.7.1)\n",
            "Requirement already satisfied: cssselect2 in /usr/local/lib/python3.10/dist-packages (from cairosvg) (0.7.0)\n",
            "Requirement already satisfied: defusedxml in /usr/local/lib/python3.10/dist-packages (from cairosvg) (0.7.1)\n",
            "Requirement already satisfied: pillow in /usr/local/lib/python3.10/dist-packages (from cairosvg) (9.4.0)\n",
            "Requirement already satisfied: tinycss2 in /usr/local/lib/python3.10/dist-packages (from cairosvg) (1.3.0)\n",
            "Requirement already satisfied: cffi>=1.1.0 in /usr/local/lib/python3.10/dist-packages (from cairocffi->cairosvg) (1.17.0)\n",
            "Requirement already satisfied: webencodings in /usr/local/lib/python3.10/dist-packages (from cssselect2->cairosvg) (0.5.1)\n",
            "Requirement already satisfied: pycparser in /usr/local/lib/python3.10/dist-packages (from cffi>=1.1.0->cairocffi->cairosvg) (2.22)\n"
          ]
        }
      ]
    },
    {
      "cell_type": "code",
      "source": [
        "import numpy as np\n",
        "import matplotlib.pyplot as plt\n",
        "import svgwrite\n",
        "import cairosvg\n",
        "\n",
        "# Function to read CSV data and extract paths\n",
        "def read_csv(csv_path):\n",
        "    np_path_XYs = np.genfromtxt(csv_path, delimiter=',')\n",
        "    path_XYs = []\n",
        "    for i in np.unique(np_path_XYs[:, 0]):\n",
        "        npXYs = np_path_XYs[np_path_XYs[:, 0] == i][:, 1:]\n",
        "        XYs = []\n",
        "        for j in np.unique(npXYs[:, 0]):\n",
        "            XY = npXYs[npXYs[:, 0] == j][:, 1:]\n",
        "            XYs.append(XY)\n",
        "        path_XYs.append(XYs)\n",
        "    return path_XYs\n",
        "\n",
        "# Function to regularize curves (example: simplifying points)\n",
        "def regularize_shapes(paths_XYs):\n",
        "    regularized_paths = []\n",
        "    for XYs in paths_XYs:\n",
        "        # Implement actual regularization logic here\n",
        "        # For example, simplifying the path or smoothing it\n",
        "        regularized_XYs = [np.round(XY, decimals=2) for XY in XYs]  # Example regularization\n",
        "        regularized_paths.append(regularized_XYs)\n",
        "    return regularized_paths\n",
        "\n",
        "# Function to check and mark symmetry\n",
        "def check_symmetry(paths_XYs):\n",
        "    symmetrical_paths = []\n",
        "    for XYs in paths_XYs:\n",
        "        # Implement symmetry detection logic here\n",
        "        # Placeholder: Assume all shapes are symmetrical for this example\n",
        "        symmetrical_paths.append(XYs)\n",
        "    return symmetrical_paths\n",
        "\n",
        "# Function to generate unique colors for shapes\n",
        "def generate_colors(num_shapes):\n",
        "    colors = plt.cm.get_cmap('tab10', num_shapes).colors\n",
        "    return colors\n",
        "\n",
        "# Function to create an SVG and PNG from paths\n",
        "def paths_to_svg(paths_XYs, svg_path):\n",
        "    W, H = 0, 0\n",
        "    for path_XYs in paths_XYs:\n",
        "        for XY in path_XYs:\n",
        "            W, H = max(W, np.max(XY[:, 0])), max(H, np.max(XY[:, 1]))\n",
        "\n",
        "    padding = 0.1\n",
        "    W, H = int(W + padding * W), int(H + padding * H)\n",
        "\n",
        "    # Create a new SVG drawing\n",
        "    dwg = svgwrite.Drawing(svg_path, profile='tiny', size=(W, H), shape_rendering='crispEdges')\n",
        "    group = dwg.g()\n",
        "\n",
        "    colors = generate_colors(len(paths_XYs))\n",
        "\n",
        "    for i, path_XYs in enumerate(paths_XYs):\n",
        "        path_data = []\n",
        "        color = svgwrite.rgb(int(colors[i][0] * 255), int(colors[i][1] * 255), int(colors[i][2] * 255))\n",
        "        for XY in path_XYs:\n",
        "            path_data.append(f\"M{XY[0, 0]},{XY[0, 1]}\")\n",
        "            path_data += [f\"L{x},{y}\" for x, y in XY[1:]]\n",
        "            if np.allclose(XY[0], XY[-1]):\n",
        "                path_data.append(\"Z\")\n",
        "        group.add(dwg.path(d=\" \".join(path_data), fill=color, stroke='none', stroke_width=2))\n",
        "\n",
        "    dwg.add(group)\n",
        "    dwg.save()\n",
        "\n",
        "    # Convert the SVG to PNG\n",
        "    png_path = svg_path.replace('.svg', '.png')\n",
        "    cairosvg.svg2png(url=svg_path, write_to=png_path, output_width=W, output_height=H, background_color='white')\n",
        "\n",
        "# Main processing function\n",
        "def process_shapes(csv_path, svg_output_path):\n",
        "    paths_XYs = read_csv(csv_path)\n",
        "    paths_XYs = regularize_shapes(paths_XYs)\n",
        "    paths_XYs = check_symmetry(paths_XYs)\n",
        "    paths_to_svg(paths_XYs, svg_output_path)\n",
        "\n",
        "# Example usage:\n",
        "csv_file_path = '/content/frag2.csv'\n",
        "svg_output_path = '/content/output.svg'\n",
        "process_shapes(csv_file_path, svg_output_path)\n"
      ],
      "metadata": {
        "colab": {
          "base_uri": "https://localhost:8080/"
        },
        "id": "WxoRUwU3exe-",
        "outputId": "24575714-be0f-4572-cf76-c265ecd3205b"
      },
      "execution_count": 13,
      "outputs": [
        {
          "output_type": "stream",
          "name": "stderr",
          "text": [
            "<ipython-input-13-2a93d9e51706>:40: MatplotlibDeprecationWarning: The get_cmap function was deprecated in Matplotlib 3.7 and will be removed two minor releases later. Use ``matplotlib.colormaps[name]`` or ``matplotlib.colormaps.get_cmap(obj)`` instead.\n",
            "  colors = plt.cm.get_cmap('tab10', num_shapes).colors\n"
          ]
        }
      ]
    },
    {
      "cell_type": "code",
      "source": [],
      "metadata": {
        "id": "BVnOmeiHfpEj"
      },
      "execution_count": null,
      "outputs": []
    }
  ]
}