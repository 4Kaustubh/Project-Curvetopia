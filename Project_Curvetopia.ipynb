{
  "nbformat": 4,
  "nbformat_minor": 0,
  "metadata": {
    "colab": {
      "provenance": [],
      "authorship_tag": "ABX9TyNwUjZAgA3XhaFmmkS3Uc8O",
      "include_colab_link": true
    },
    "kernelspec": {
      "name": "python3",
      "display_name": "Python 3"
    },
    "language_info": {
      "name": "python"
    }
  },
  "cells": [
    {
      "cell_type": "markdown",
      "metadata": {
        "id": "view-in-github",
        "colab_type": "text"
      },
      "source": [
        "<a href=\"https://colab.research.google.com/github/4Kaustubh/Project-Curvetopia/blob/main/Project_Curvetopia.ipynb\" target=\"_parent\"><img src=\"https://colab.research.google.com/assets/colab-badge.svg\" alt=\"Open In Colab\"/></a>"
      ]
    },
    {
      "cell_type": "code",
      "source": [
        "pip install scipy scikit-learn svgwrite cairosvg"
      ],
      "metadata": {
        "colab": {
          "base_uri": "https://localhost:8080/"
        },
        "id": "jm9mk8qTfq5C",
        "outputId": "d27c105f-bfa7-49cf-b56a-10381994340a"
      },
      "execution_count": 8,
      "outputs": [
        {
          "output_type": "stream",
          "name": "stdout",
          "text": [
            "Requirement already satisfied: scipy in /usr/local/lib/python3.10/dist-packages (1.13.1)\n",
            "Requirement already satisfied: scikit-learn in /usr/local/lib/python3.10/dist-packages (1.3.2)\n",
            "Requirement already satisfied: svgwrite in /usr/local/lib/python3.10/dist-packages (1.4.3)\n",
            "Requirement already satisfied: cairosvg in /usr/local/lib/python3.10/dist-packages (2.7.1)\n",
            "Requirement already satisfied: numpy<2.3,>=1.22.4 in /usr/local/lib/python3.10/dist-packages (from scipy) (1.26.4)\n",
            "Requirement already satisfied: joblib>=1.1.1 in /usr/local/lib/python3.10/dist-packages (from scikit-learn) (1.4.2)\n",
            "Requirement already satisfied: threadpoolctl>=2.0.0 in /usr/local/lib/python3.10/dist-packages (from scikit-learn) (3.5.0)\n",
            "Requirement already satisfied: cairocffi in /usr/local/lib/python3.10/dist-packages (from cairosvg) (1.7.1)\n",
            "Requirement already satisfied: cssselect2 in /usr/local/lib/python3.10/dist-packages (from cairosvg) (0.7.0)\n",
            "Requirement already satisfied: defusedxml in /usr/local/lib/python3.10/dist-packages (from cairosvg) (0.7.1)\n",
            "Requirement already satisfied: pillow in /usr/local/lib/python3.10/dist-packages (from cairosvg) (9.4.0)\n",
            "Requirement already satisfied: tinycss2 in /usr/local/lib/python3.10/dist-packages (from cairosvg) (1.3.0)\n",
            "Requirement already satisfied: cffi>=1.1.0 in /usr/local/lib/python3.10/dist-packages (from cairocffi->cairosvg) (1.17.0)\n",
            "Requirement already satisfied: webencodings in /usr/local/lib/python3.10/dist-packages (from cssselect2->cairosvg) (0.5.1)\n",
            "Requirement already satisfied: pycparser in /usr/local/lib/python3.10/dist-packages (from cffi>=1.1.0->cairocffi->cairosvg) (2.22)\n"
          ]
        }
      ]
    },
    {
      "cell_type": "code",
      "source": [
        "import numpy as np\n",
        "import matplotlib.pyplot as plt\n",
        "import svgwrite\n",
        "import cairosvg\n",
        "from scipy.ndimage import gaussian_filter1d\n",
        "from scipy.signal import savgol_filter\n",
        "from scipy.spatial import ConvexHull\n",
        "from sklearn.decomposition import PCA\n",
        "\n",
        "\n",
        "def read_csv(csv_path):\n",
        "    np_path_XYs = np.genfromtxt(csv_path, delimiter=',')\n",
        "    path_XYs = []\n",
        "    for i in np.unique(np_path_XYs[:, 0]):\n",
        "        npXYs = np_path_XYs[np_path_XYs[:, 0] == i][:, 1:]\n",
        "        XYs = []\n",
        "        for j in np.unique(npXYs[:, 0]):\n",
        "            XY = npXYs[npXYs[:, 0] == j][:, 1:]\n",
        "            XYs.append(XY)\n",
        "        path_XYs.append(XYs)\n",
        "    return path_XYs\n",
        "\n",
        "def regularize_shapes(paths_XYs):\n",
        "    regularized_paths = []\n",
        "    for XYs in paths_XYs:\n",
        "        smoothed_XYs = []\n",
        "        for XY in XYs:\n",
        "\n",
        "            t = np.linspace(0, 1, len(XY))\n",
        "            t_interp = np.linspace(0, 1, len(XY) * 10)\n",
        "            XY_interp = np.column_stack([np.interp(t_interp, t, XY[:, 0]), np.interp(t_interp, t, XY[:, 1])])\n",
        "\n",
        "\n",
        "            smoothed_XY = savgol_filter(XY_interp, window_length=11, polyorder=3, axis=0)\n",
        "            smoothed_XYs.append(smoothed_XY)\n",
        "        regularized_paths.append(smoothed_XYs)\n",
        "    return regularized_paths\n",
        "\n",
        "\n",
        "def close_paths(paths_XYs):\n",
        "    closed_paths = []\n",
        "    for XYs in paths_XYs:\n",
        "        closed_XYs = []\n",
        "        for XY in XYs:\n",
        "            if not np.allclose(XY[0], XY[-1]):\n",
        "                XY = np.vstack([XY, XY[0]])\n",
        "            closed_XYs.append(XY)\n",
        "        closed_paths.append(closed_XYs)\n",
        "    return closed_paths\n",
        "\n",
        "\n",
        "def generate_colors(num_shapes):\n",
        "    colors = plt.cm.get_cmap('tab10', num_shapes).colors\n",
        "    return colors\n",
        "\n",
        "\n",
        "def paths_to_svg(paths_XYs, svg_path):\n",
        "    W, H = 0, 0\n",
        "    for path_XYs in paths_XYs:\n",
        "        for XY in path_XYs:\n",
        "            W, H = max(W, np.max(XY[:, 0])), max(H, np.max(XY[:, 1]))\n",
        "\n",
        "    padding = 0.1\n",
        "    W, H = int(W + padding * W), int(H + padding * H)\n",
        "\n",
        "\n",
        "    dwg = svgwrite.Drawing(svg_path, profile='tiny', size=(W, H), shape_rendering='crispEdges')\n",
        "    group = dwg.g()\n",
        "\n",
        "    colors = generate_colors(len(paths_XYs))\n",
        "\n",
        "    for i, path_XYs in enumerate(paths_XYs):\n",
        "        path_data = []\n",
        "        color = svgwrite.rgb(255, 0, 0)\n",
        "        for XY in path_XYs:\n",
        "            path_data.append(f\"M{XY[0, 0]},{XY[0, 1]}\")\n",
        "            path_data += [f\"L{x},{y}\" for x, y in XY[1:]]\n",
        "            if np.allclose(XY[0], XY[-1]):\n",
        "                path_data.append(\"Z\")\n",
        "        group.add(dwg.path(d=\" \".join(path_data), fill='none', stroke=color, stroke_width=1))\n",
        "\n",
        "    dwg.add(group)\n",
        "    dwg.save()\n",
        "\n",
        "\n",
        "    png_path = svg_path.replace('.svg', '.png')\n",
        "    cairosvg.svg2png(url=svg_path, write_to=png_path, output_width=W, output_height=H, background_color='white')\n",
        "\n",
        "\n",
        "def process_shapes(csv_path, svg_output_path):\n",
        "    paths_XYs = read_csv(csv_path)\n",
        "    paths_XYs = regularize_shapes(paths_XYs)\n",
        "    paths_XYs = close_paths(paths_XYs)\n",
        "    paths_to_svg(paths_XYs, svg_output_path)\n",
        "\n",
        "\n",
        "csv_file_path = '/content/input.csv'\n",
        "svg_output_path = '/content/output.svg'\n",
        "process_shapes(csv_file_path, svg_output_path)"
      ],
      "metadata": {
        "colab": {
          "base_uri": "https://localhost:8080/"
        },
        "id": "WxoRUwU3exe-",
        "outputId": "1d99d7f0-6910-4935-e06b-e910d24904b7"
      },
      "execution_count": 10,
      "outputs": [
        {
          "output_type": "stream",
          "name": "stderr",
          "text": [
            "<ipython-input-10-441c8eeb287e>:53: MatplotlibDeprecationWarning: The get_cmap function was deprecated in Matplotlib 3.7 and will be removed two minor releases later. Use ``matplotlib.colormaps[name]`` or ``matplotlib.colormaps.get_cmap(obj)`` instead.\n",
            "  colors = plt.cm.get_cmap('tab10', num_shapes).colors\n"
          ]
        }
      ]
    },
    {
      "cell_type": "code",
      "source": [],
      "metadata": {
        "id": "BVnOmeiHfpEj"
      },
      "execution_count": null,
      "outputs": []
    }
  ]
}